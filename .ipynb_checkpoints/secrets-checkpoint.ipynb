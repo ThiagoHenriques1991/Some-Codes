{
 "cells": [
  {
   "cell_type": "code",
   "execution_count": null,
   "id": "3376f792-9f84-4158-9309-42e7991e7305",
   "metadata": {},
   "outputs": [],
   "source": [
    "api_key = 'z4dOaXbBYCvDFaM0mgQRi4UgHnKbQBinexkyB6RkkYTL85k4lhz2idcWFnL6fdfl'\n",
    "api_secret = 'z4dOaXbBYCvDFaM0mgQRi4UgHnKbQBinexkyB6RkkYTL85k4lhz2idcWFnL6fdfl'"
   ]
  }
 ],
 "metadata": {
  "kernelspec": {
   "display_name": "analise_dados",
   "language": "python",
   "name": "analise_dados"
  },
  "language_info": {
   "codemirror_mode": {
    "name": "ipython",
    "version": 3
   },
   "file_extension": ".py",
   "mimetype": "text/x-python",
   "name": "python",
   "nbconvert_exporter": "python",
   "pygments_lexer": "ipython3",
   "version": "3.13.2"
  }
 },
 "nbformat": 4,
 "nbformat_minor": 5
}
